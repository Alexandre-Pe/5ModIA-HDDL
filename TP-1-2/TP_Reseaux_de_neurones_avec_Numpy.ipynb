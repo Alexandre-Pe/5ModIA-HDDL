{
 "cells": [
  {
   "cell_type": "markdown",
   "metadata": {
    "id": "5b3pjAUEk2LQ"
   },
   "source": [
    "# Construire et entraîner un perceptron multi-couches - étape par étape\n",
    "\n",
    "Dans ce TP, vous allez mettre en œuvre l'entraînement d'un réseau de neurones (perceptron multi-couches) à l'aide de la librairie **numpy**. Pour cela nous allons procéder par étapes successives. Dans un premier temps nous allons traiter le cas d'un perceptron mono-couche, en commençant par la passe *forward* de prédiction d'une sortie à partir d'une entrée et des paramètres du perceptron, puis en implémentant la passe *backward* de calcul des gradients de la fonction objectif par rapport aux paramètrès. A partir de là, nous pourrons tester l'entraînement à l'aide de la descente de gradient stochastique.\n",
    "\n",
    "Une fois ces étapes achevées, nous pourrons nous atteler à la construction d'un perceptron multi-couches, qui consistera pour l'essentiel en la composition de perceptrons mono-couche. \n",
    "\n",
    "Dans ce qui suit, nous adoptons les conventions de notation suivantes : \n",
    "\n",
    "- $(x, y)$ désignent un couple donnée/label de la base d'apprentissage ; $\\hat{y}$ désigne quant à lui la prédiction du modèle sur la donnée $x$.\n",
    "\n",
    "- L'indice $i$ indique la $i^{\\text{ème}}$ dimension d'un vecteur.\n",
    "\n",
    "- L'exposant $[l]$ désigne un objet associé à la $l^{\\text{ème}}$ couche.\n",
    "\n",
    "- L'exposant $(k)$ désigne un objet associé au $k^{\\text{ème}}$ exemple. \n",
    "   \n",
    "Exemple:  \n",
    "- $a^{(2)[3]}_5$ indique la 5ème dimension du vecteur d'activation du 2ème exemple d'entraînement (2), de la 3ème couche [3].\n",
    "\n",
    "\n",
    "Commençons par importer tous les modules nécessaires : "
   ]
  },
  {
   "cell_type": "code",
   "execution_count": 6,
   "metadata": {
    "id": "R6LBs_NLla1a"
   },
   "outputs": [],
   "source": [
    "import numpy as np\n",
    "import math\n",
    "import matplotlib.pyplot as plt \n",
    "\n",
    "from sklearn.model_selection import train_test_split\n",
    "from sklearn import datasets"
   ]
  },
  {
   "cell_type": "markdown",
   "metadata": {
    "id": "3JZIXefJlXSV"
   },
   "source": [
    "\n",
    "--- \n",
    "\n",
    "## Perceptron mono-couche\n"
   ]
  },
  {
   "cell_type": "markdown",
   "metadata": {
    "id": "azdcz3QV_k-r"
   },
   "source": [
    "### Perceptron mono-couche - passe *forward*\n",
    "\n",
    "Un perceptron mono-couche est un modèle liant une couche d'entrée (en vert, qui n'effectue pas d'opération) à une couche de sortie. Les neurones des deux couches sont connectés par des liaisons pondérées (les poids synaptiques) $W_{xy}$, et les neurones de la couche de sortie portent chacun un biais additif $b_y$. Enfin, une fonction d'activation $f$ est appliquée à l'issue de ces opérations pour obtenir la prédiction du réseau $\\hat{y}$. \n",
    "\n",
    "On a donc :\n",
    "\n",
    "$$\\hat{y} = f ( W_{xy} x + b_y )$$ \n",
    "\n",
    "On posera pour la suite :\n",
    "$$ z = W_{xy} x + b_y $$\n",
    "\n",
    "La figure montre une représentation de ces opérations sous forme de réseau de neurones (à gauche), mais aussi sous une forme fonctionnelle (à droite) qui permet de bien visualiser l'ordre des opérations.\n",
    "\n",
    "<!-- <img src=\"https://drive.google.com/uc?id=1RZeiaKue0GLXJr3HRtKkuP6GD8r6I1_Q\" height=300> -->\n",
    "<!-- <img src=\"https://drive.google.com/uc?id=1dnQ6SSdpEX1GDTgoNTrUwA3xjiP9rTYU\" height=250> -->\n",
    "<img src=\"https://docs.google.com/uc?export=download&id=1U4V-MwOatw4axK2u8sJxaasUMl6A3TPo\" height=300>\n",
    "<img src=\"https://docs.google.com/uc?export=download&id=14tq-pbbFLvBZU-8LGvgYA71vrWNmSK73\" height=250> \n",
    "\n",
    "Notez que les paramètres du perceptron, que nous allons ajuster par un processus d'optimisation, sont donc les poids synaptiques $W_{xy}$ et les biais $b_y$. Par commodité dans le code, nous considérerons également comme un paramètre le choix de la fonction d'activation.\n",
    "\n",
    "**Remarque importante** : on a ici simplifié les dimensions des tenseurs en considérant que les données étaient prédites une à une par le perceptron. En pratique, on traite souvent les données par *batch*, c'est-à-dire que les prédictions sont faites pour plusieurs données simultanément. Ici pour une taille de *batch* de $m$, cela signifie en fait que :\n",
    " \n",
    "$$ x \\in \\mathbb{R}^{4 \\times m} \\text{  et  } y \\in \\mathbb{R}^{5 \\times m}$$ \n"
   ]
  },
  {
   "cell_type": "markdown",
   "metadata": {
    "id": "RBtX2euQDSCS"
   },
   "source": [
    "Complétez la fonction `dense_layer_forward` qui calcule la prédiction  d'un perceptron mono-couche pour une entrée $x$. "
   ]
  },
  {
   "cell_type": "code",
   "execution_count": 7,
   "metadata": {
    "id": "YGYbWrRfmIwx"
   },
   "outputs": [],
   "source": [
    "def dense_layer_forward(x, Wxy, by, activation):\n",
    "    \"\"\"\n",
    "    Réalise une unique étape forward de la couche dense telle que décrite dans la figure (2)\n",
    "\n",
    "    Arguments:\n",
    "    x -- l'entrée, tableau numpy de dimension (n_x, m).\n",
    "    Wxy -- Matrice de poids multipliant l'entrée, tableau numpy de shape (n_y, n_x)\n",
    "    by -- Biais additif ajouté à la sortie, tableau numpy de dimension (n_y, 1)\n",
    "    activation -- Chaîne de caractère désignant la fonction d'activation choisie : 'linear', 'sigmoid' ou 'relu'\n",
    "\n",
    "    Retourne :\n",
    "    y_pred -- prédiction, tableau numpy de dimension (n_y, m)\n",
    "    cache -- tuple des valeurs utiles pour la passe backward (rétropropagation du gradient), contient (x, z)\n",
    "    \"\"\"\n",
    "    \n",
    "    ### A COMPLETER ### \n",
    "    # calcul de z\n",
    "    z = ...\n",
    "    # calcul de la sortie en appliquant la fonction d'activation\n",
    "    if activation == 'relu':\n",
    "      y = ...\n",
    "    elif activation == 'sigmoid':\n",
    "      y = ...\n",
    "    elif activation == 'linear':\n",
    "      y = ...\n",
    "    else:\n",
    "      print(\"Erreur : la fonction d'activation n'est pas implémentée.\")\n",
    "    \n",
    "    # sauvegarde du cache pour la passe backward\n",
    "    cache = (x, z)\n",
    "    \n",
    "    return y, cache"
   ]
  },
  {
   "cell_type": "markdown",
   "metadata": {
    "id": "1dCFTHOqD_Tp"
   },
   "source": [
    "Exécutez les lignes suivantes pour vérifier la validité de votre code :"
   ]
  },
  {
   "cell_type": "code",
   "execution_count": 8,
   "metadata": {
    "colab": {
     "base_uri": "https://localhost:8080/"
    },
    "id": "B6wlVU37on1k",
    "outputId": "b14b0334-704b-473e-933a-8f56b11d2a27"
   },
   "outputs": [
    {
     "name": "stdout",
     "output_type": "stream",
     "text": [
      "y_pred.shape = \n",
      " (2, 10)\n",
      "----------------------------\n",
      "y_pred[1] =\n",
      " [0.         2.11983968 0.88583246 1.39272594 0.         2.92664609\n",
      " 0.         1.47890228 0.         0.04725575]\n",
      "----------------------------\n",
      "y_pred[1] =\n",
      " [0.10851642 0.89281659 0.70802939 0.80102707 0.21934644 0.94914804\n",
      " 0.24545321 0.81440672 0.48495927 0.51181174]\n",
      "----------------------------\n",
      "y_pred[1] =\n",
      " [-2.10598556  2.11983968  0.88583246  1.39272594 -1.26947904  2.92664609\n",
      " -1.12301093  1.47890228 -0.06018107  0.04725575]\n"
     ]
    }
   ],
   "source": [
    "np.random.seed(1)\n",
    "\n",
    "x_tmp = np.random.randn(3,10)\n",
    "Wxy = np.random.randn(2,3)\n",
    "by = np.random.randn(2,1)\n",
    "\n",
    "activation = 'relu'\n",
    "y_pred_tmp, cache_tmp = dense_layer_forward(x_tmp, Wxy, by, activation)\n",
    "\n",
    "print(\"y_pred.shape = \\n\", y_pred_tmp.shape)\n",
    "\n",
    "print('----------------------------')\n",
    "\n",
    "print(\"y_pred[1] =\\n\", y_pred_tmp[1])\n",
    "\n",
    "print('----------------------------')\n",
    "\n",
    "activation = 'sigmoid'\n",
    "y_pred_tmp, cache_tmp = dense_layer_forward(x_tmp, Wxy, by, activation)\n",
    "print(\"y_pred[1] =\\n\", y_pred_tmp[1])\n",
    "\n",
    "print('----------------------------')\n",
    "\n",
    "activation = 'linear'\n",
    "y_pred_tmp, cache_tmp = dense_layer_forward(x_tmp, Wxy, by, activation)\n",
    "print(\"y_pred[1] =\\n\", y_pred_tmp[1])"
   ]
  },
  {
   "cell_type": "markdown",
   "metadata": {
    "id": "YYbiDw8TptiN"
   },
   "source": [
    "**Affichage attendu**: \n",
    "```Python\n",
    "y_pred.shape = \n",
    " (2, 10)\n",
    "----------------------------\n",
    "y_pred[1] =\n",
    " [0.         2.11983968 0.88583246 1.39272594 0.         2.92664609\n",
    " 0.         1.47890228 0.         0.04725575]\n",
    "----------------------------\n",
    "y_pred[1] =\n",
    " [0.10851642 0.89281659 0.70802939 0.80102707 0.21934644 0.94914804\n",
    " 0.24545321 0.81440672 0.48495927 0.51181174]\n",
    "----------------------------\n",
    "y_pred[1] =\n",
    " [-2.10598556  2.11983968  0.88583246  1.39272594 -1.26947904  2.92664609\n",
    " -1.12301093  1.47890228 -0.06018107  0.04725575]\n",
    "\n",
    "```"
   ]
  },
  {
   "cell_type": "markdown",
   "metadata": {
    "id": "GypgZ8jBqooR"
   },
   "source": [
    "### Perceptron mono-couche - passe *backward*\n",
    "\n",
    "Dans les librairies d'apprentissage profond actuelles, il suffit d'implémenter la passe *forward*, et la passe *backward* est réalisée automatiquement, avec le calcul des gradients (différentiation automatique) et la mise à jour des paramètres. Il est cependant intéressant de comprendre comment fonctionne la passe *backward*, en l'implémentant sur un exemple simple.\n",
    "\n",
    "<!-- <img src=\"https://drive.google.com/uc?id=1MC8Nxu6BQnpB7cGLwunIbgx9s1FaGw81\" height=350> -->\n",
    "<img src=\"https://docs.google.com/uc?export=download&id=1bIk-7GppJzkP2HNJ9RMvhjPoBNuNX-yU\" height=350> \n",
    "\n",
    "Il faut calculer les dérivées par rapport à la fonction de perte pour ensuite mettre à jour les paramètres du réseau. Les équations de rétropropagation sont données ci-dessous (c'est un bon exercice que de les calculer à la main). \n",
    "\n",
    "\\begin{align}\n",
    "\\displaystyle  {dW_{xy}} &~=~ \\frac{\\partial J}{\\partial W_{xy}} ~=~ dz . x^{T}\\tag{1} \\\\[8pt]\n",
    "\\displaystyle db_{y} &~=~ \\frac{\\partial J}{\\partial b_y} ~=~ \\sum_{batch}dz\\tag{2} \\\\[8pt]\n",
    "\\displaystyle dx &~=~ \\frac{\\partial J}{\\partial x} ~=~ { W_{xy}}^T . dz \\tag{3}  \\\\[8pt]\n",
    "\\end{align}\n",
    "\n",
    "\n",
    "Ici, $*$ indique une multiplication élément par élément tandis que l'absence de symbole indique une multiplication matricielle. Par ailleurs $dz$ désigne $\\frac{\\partial J}{\\partial z}=\\frac{\\partial J}{\\partial \\hat{y}}\\frac{\\partial \\hat{y}}{\\partial z}$, $dW_{xy}$ désigne $\\frac{\\partial J}{\\partial W_{xy}}$, $db_y$ désigne $\\frac{\\partial J}{\\partial b_y}$ et $dx$ désigne $\\frac{\\partial J}{\\partial x}$ (ces noms ont été choisis pour être utilisables dans le code)."
   ]
  },
  {
   "cell_type": "code",
   "execution_count": 9,
   "metadata": {
    "id": "wEi_y3W_rCMc"
   },
   "outputs": [],
   "source": [
    "def dense_layer_backward(dy_hat, Wxy, by, activation, cache):\n",
    "    \"\"\"\n",
    "    Implémente la passe backward de la couche dense.\n",
    "\n",
    "    Arguments :\n",
    "    dy_hat -- Gradient de la perte J par rapport à la sortie ŷ\n",
    "    cache -- dictionnaire python contenant des variables utiles (issu de dense_layer_forward())\n",
    "\n",
    "    Retourne :\n",
    "    gradients -- dictionnaire python contenant les gradients suivants :\n",
    "                        dx -- Gradients par rapport aux entrées, de dimension (n_x, m)\n",
    "                        dby -- Gradients par rapport aux biais, de dimension (n_y, 1)\n",
    "                        dWxy -- Gradients par rapport aux poids synaptiques Wxy, de dimension (n_y, n_x)\n",
    "    \"\"\"\n",
    "    \n",
    "    # Récupérer le cache\n",
    "    (x, z) = cache\n",
    "\n",
    "    ### A COMPLETER ###   \n",
    "    # calcul de la sortie en appliquant l'activation\n",
    "    # dy_dz -- Gradient de la sortie ŷ par rapport à l'état caché z\n",
    "    if activation == 'relu':\n",
    "      dy_dz = ...\n",
    "    elif activation == 'sigmoid':\n",
    "      dy_dz = ...\n",
    "    else: # Activation linéaire\n",
    "      dy_dz = ... \n",
    "\n",
    "\n",
    "    # calculer le gradient de la perte par rapport à x\n",
    "    dx = ... \n",
    "\n",
    "    # calculer le gradient de la perte par rapport à Wxy\n",
    "    dWxy = ... \n",
    "\n",
    "    # calculer le gradient de la perte par rapport à by \n",
    "    dby = ... \n",
    "\n",
    "    ### FIN ###\n",
    "    \n",
    "    # Stocker les gradients dans un dictionnaire\n",
    "    gradients = {\"dx\": dx, \"dby\": dby, \"dWxy\": dWxy}\n",
    "    \n",
    "    return gradients"
   ]
  },
  {
   "cell_type": "markdown",
   "metadata": {
    "id": "E5KeDgyO-ZPJ"
   },
   "source": [
    "On peut maintenant créer une classe `DenseLayer`, qui comprend en attribut toutes les informations nécessaires à la description d'une couche dense, c'est-à-dire : \n",
    "\n",
    "*   Le nombre de neurones en entrée de la couche dense (input_size)\n",
    "*   Le nombre de neurones en sortie de la couche dense (output_size)\n",
    "*   La fonction d'activation choisie sur cette couche (activation)\n",
    "*   Les poids synaptiques de la couche dense, stockés dans une matrice de taille (output_size, input_size) (Wxy)\n",
    "*   Les biais de la couche dense, stockés dans un vecteur de taille (output_size, 1) (by)\n",
    "\n",
    "On ajoute également un attribut cache qui permettra de stocker les entrées de la couche dense (x) ainsi que les calculs intermédiaires (z) réalisés lors de la passe *forward*, afin d'être réutilisés pour la basse *backward*.\n",
    "\n",
    "A vous de compléter les 4 jalons suivants : \n",
    "\n",
    "*   **L'initialisation des paramètres** Wxy et by : Wxy doit être positionnée suivant [l'initialisation de Glorot](https://www.tensorflow.org/api_docs/python/tf/keras/initializers/GlorotUniform), et by est initialisée par un vecteur de zéros.\n",
    "*   **La fonction `forward`**, qui consiste simplement en un appel de la fonction `dense_layer_forward` implémentée précédemment.\n",
    "*   **La fonction `backward`**, qui consiste simplement en un appel de la fonction `dense_layer_backward` implémentée précédemment.\n",
    "*   Et enfin **la fonction `update_parameters`** qui applique la mise à jour de la descente de gradient en fonction d'un taux d'apprentissage (learning_rate) et des gradients calculés dans la passe *forward*."
   ]
  },
  {
   "cell_type": "code",
   "execution_count": null,
   "metadata": {},
   "outputs": [],
   "source": []
  },
  {
   "cell_type": "code",
   "execution_count": 10,
   "metadata": {
    "id": "u2K9dp1IL3yM"
   },
   "outputs": [],
   "source": [
    "class DenseLayer:\n",
    "    def __init__(self, input_size, output_size, activation):\n",
    "      self.input_size = input_size\n",
    "      self.output_size = output_size\n",
    "      self.activation = activation\n",
    "      self.cache = None  # Le cache sera mis à jour lors de la passe forward\n",
    "      limit = math.sqrt(6 / (input_size + output_size))\n",
    "    \n",
    "      ### A COMPLETER ###\n",
    "      self.Wxy = ... # https://www.tensorflow.org/api_docs/python/tf/keras/initializers/GlorotUniform\n",
    "      self.by = ...\n",
    "\n",
    "    def forward(self, x_batch):\n",
    "      y, cache = ...\n",
    "      self.cache = cache\n",
    "      return y\n",
    "\n",
    "    def backward(self, dy):\n",
    "      return ...\n",
    "\n",
    "    def update_parameters(self, gradients, learning_rate):\n",
    "      self.Wxy -= learning_rate * gradients[\"dWxy\"]\n",
    "      self.by  -= learning_rate * gradients[\"dby\"]\n"
   ]
  },
  {
   "cell_type": "markdown",
   "metadata": {
    "id": "9GlEB8K3Lani"
   },
   "source": [
    "### Entraînement par descente de gradient stochastique"
   ]
  },
  {
   "cell_type": "markdown",
   "metadata": {
    "id": "2KMcQzlskdI1"
   },
   "source": [
    "Pour entraîner notre modèle, nous devons mettre en place un optimiseur. Nous implémenterons la descente de gradient stochastique avec mini-batch. Il nous faut cependant au préalable implanter la fonction de coût que nous utiliserons pour évaluer la qualité de nos prédictions. \n",
    "\n",
    "Pour le moment, nous allons nous contenter d'une erreur quadratique moyenne, qui associée à une fonction d'activation linéaire (l'identité) permet de résoudre les problèmes de régression. \n",
    "\n",
    "La fonction de coût prend en entrée deux paramètres : la vérité-terrain *y_true* et la prédiction du modèle *y_pred*. Ces deux matrices sont de dimension $bs \\times output\\text{_}size$. La fonction retourne deux grandeurs : *loss* qui correspond à l'erreur quadratique moyenne des prédictions par rapport aux vérités-terrains, et *grad* au gradient de l'erreur quadratique moyenne par rapport aux prédictions. Autrement dit : \n",
    "$$ \\text{grad}  = \\frac{\\partial J_{mb}}{\\partial \\hat{y}}$$\n",
    "\n",
    "où $\\hat{y}$ correspond à *y_pred*, et $J_{mb}$ à la fonction objectif calculée sur un mini-batch $mb$ de données."
   ]
  },
  {
   "cell_type": "code",
   "execution_count": 11,
   "metadata": {
    "id": "FRDUnhJma6jf"
   },
   "outputs": [],
   "source": [
    "### A COMPLETER ###\n",
    "def mean_square_error(y_true, y_pred):\n",
    "  loss = ...\n",
    "  grad = ...\n",
    "\n",
    "  return loss, grad"
   ]
  },
  {
   "cell_type": "markdown",
   "metadata": {
    "id": "w2XnUBj2n-Df"
   },
   "source": [
    "La descente de gradient stochastique prend en entrée les paramètres suivants :  \n",
    "*    *x_train* et *y_train* respectivement les données et labels de l'ensemble d'apprentissage (que l'on suppose de taille $N$).\n",
    "*    *model* une instance du modèle que l'on veut entraîner (qui doit implanter les 3 fonctions vues précédemment *forward*, *backward* et *update_parameters*).\n",
    "*    *loss_function* peut prendre deux valeurs : 'mse' (erreur quadratique moyenne) ou 'bce' (entropie croisée binaire, que nous implémenterons par la suite).\n",
    "*    *learning_rate* le taux d'apprentissage choisi pour la descente de gradient.\n",
    "*    *epochs* le nombre de parcours complets de l'ensemble d'apprentissage que l'on veut réaliser.\n",
    "*    *batch_size* la taille de mini-batch désirée pour la descente de gradient stochastique. \n",
    "\n",
    "L'algorithme à implémenter est rappelé ci-dessous :       \n",
    "```\n",
    "N_batch = floor(N/batch_size)\n",
    "\n",
    "Répéter epochs fois\n",
    "\n",
    "  Pour b de 1 à N_batch Faire\n",
    "\n",
    "    Sélectionner les données x_train_batch et labels y_train_batch du b-ème mini-batch\n",
    "    Calculer la prédiction y_pred_batch du modèle pour ce mini-batch\n",
    "    Calculer la perte batch_loss et le gradient de la perte batch_grad par rapport aux prédictions sur ce mini-batch\n",
    "    Calculer les gradients de la perte par rapport à chaque paramètre du modèle\n",
    "    Mettre à jour les paramètres du modèle \n",
    "\n",
    "  Fin Pour\n",
    "\n",
    "Fin Répéter\n",
    "\n",
    "```\n",
    "Deux remarques additionnelles :    \n",
    "1. A chaque *epoch*, les *mini-batches* doivent être différents (les données doivent être réparties dans différents *mini-batches*).\n",
    "2. Il est intéressant de calculer (et d'afficher !) la perte moyennée sur l'ensemble d'apprentissage à chaque *epoch*. Pour cela, on peut accumuler les pertes de chaque *mini-batch* sur une *epoch* et diviser l'ensemble par le nombre de *mini-batches*."
   ]
  },
  {
   "cell_type": "code",
   "execution_count": 12,
   "metadata": {
    "id": "lk3lypUOLXbv"
   },
   "outputs": [],
   "source": [
    "def SGD(x_train, y_train, model, loss_function, learning_rate, epochs, batch_size):\n",
    "  # Nombre de batches par epoch\n",
    "  nb_batches = math.floor(x_train.shape[0] / batch_size)\n",
    "\n",
    "  # Pour gérer le tirage aléatoire des batches parmi les données d'entraînement, \n",
    "  # génération et permutation des indices\n",
    "  indices = np.arange(x_train.shape[0])\n",
    "  indices = np.random.permutation(indices)\n",
    "\n",
    "  for e in range(epochs):\n",
    "\n",
    "    running_loss = 0\n",
    "\n",
    "    for b in range(nb_batches):\n",
    "\n",
    "      # Sélection des données du batch courant\n",
    "      x_train_batch = x_train[indices[b*batch_size:(b+1)*batch_size]]\n",
    "      y_train_batch = y_train[indices[b*batch_size:(b+1)*batch_size]]\n",
    "\n",
    "      # Prédiction du modèle pour le batch courant\n",
    "      y_pred_batch = model.forward(np.transpose(x_train_batch))\n",
    "\n",
    "      # Calcul de la perte et des gradients sur le batch courant\n",
    "      if loss_function == 'mse':\n",
    "        batch_loss, batch_gradients = mean_square_error(y_train_batch, y_pred_batch)\n",
    "      elif loss_function == 'bce':\n",
    "        batch_loss, batch_gradients = binary_cross_entropy(y_train_batch, y_pred_batch)\n",
    "\n",
    "      running_loss += batch_loss \n",
    "\n",
    "      # Calcul du gradient de la perte par rapport aux paramètres du modèle\n",
    "      param_updates = model.backward(batch_gradients)\n",
    "\n",
    "      # Mise à jour des paramètres du modèle\n",
    "      model.update_parameters(param_updates, learning_rate)\n",
    "\n",
    "    print(\"Epoch %4d : Loss : %.4f\" % (e, float(running_loss/nb_batches)))\n",
    "\n",
    "    # Nouvelle permutation des données pour la prochaine epoch\n",
    "    indices = np.random.permutation(indices)\n",
    "    \n",
    "  return model"
   ]
  },
  {
   "cell_type": "markdown",
   "metadata": {
    "id": "9bybDhHivjXq"
   },
   "source": [
    "### Test sur un problème de régression "
   ]
  },
  {
   "cell_type": "markdown",
   "metadata": {
    "id": "N7q44eS0vrrZ"
   },
   "source": [
    "Le bloc de code suivant permet de générer et d'afficher des ensembles de données d'apprentissage et de test pour un problème de régression linéaire classique. "
   ]
  },
  {
   "cell_type": "code",
   "execution_count": 23,
   "metadata": {
    "colab": {
     "base_uri": "https://localhost:8080/",
     "height": 265
    },
    "id": "nGcIVuALraDG",
    "outputId": "35ff1cb2-ae7a-493c-ba2c-43191a64b851"
   },
   "outputs": [
    {
     "data": {
      "text/plain": [
       "[Ellipsis]"
      ]
     },
     "execution_count": 23,
     "metadata": {},
     "output_type": "execute_result"
    }
   ],
   "source": [
    "x, y = datasets.make_regression(n_samples=250, n_features=1, n_targets=1, random_state=1, noise=10)\n",
    "\n",
    "x_train, x_test, y_train, y_test = train_test_split(x, y, test_size=1/10, random_state=1)\n",
    "x_train, x_val, y_train, y_val = train_test_split(x_train, y_train, test_size=1/9, random_state=1)\n",
    "\n",
    "### A COMPLETER ###\n",
    "# Afficher un nuage de points permettant de distinguer \"Ensemble d'apprentissage\" et \"Ensemble de test\"\n",
    "# (par exemple, en traçant l'un en bleu et l'autre en rouge)\n",
    "\n",
    "[...]"
   ]
  },
  {
   "cell_type": "code",
   "execution_count": 24,
   "metadata": {
    "colab": {
     "base_uri": "https://localhost:8080/",
     "height": 440
    },
    "id": "GKFJ3c2MmomL",
    "outputId": "d5a01172-174a-4b87-9c8c-087fcb5b2f7a"
   },
   "outputs": [
    {
     "ename": "TypeError",
     "evalue": "__init__() missing 2 required positional arguments: 'output_size' and 'activation'",
     "output_type": "error",
     "traceback": [
      "\u001b[0;31m---------------------------------------------------------------------------\u001b[0m",
      "\u001b[0;31mTypeError\u001b[0m                                 Traceback (most recent call last)",
      "\u001b[0;32m/var/folders/pv/w96wvnnj27j18vplbhmz_yvwvgj4vl/T/ipykernel_18806/2036889914.py\u001b[0m in \u001b[0;36m<module>\u001b[0;34m\u001b[0m\n\u001b[1;32m      1\u001b[0m \u001b[0;31m### A COMPLETER ###\u001b[0m\u001b[0;34m\u001b[0m\u001b[0;34m\u001b[0m\u001b[0m\n\u001b[0;32m----> 2\u001b[0;31m \u001b[0mmodel\u001b[0m \u001b[0;34m=\u001b[0m \u001b[0mDenseLayer\u001b[0m\u001b[0;34m(\u001b[0m\u001b[0;34m...\u001b[0m\u001b[0;34m)\u001b[0m\u001b[0;34m\u001b[0m\u001b[0;34m\u001b[0m\u001b[0m\n\u001b[0m\u001b[1;32m      3\u001b[0m \u001b[0mmodel\u001b[0m \u001b[0;34m=\u001b[0m \u001b[0mSGD\u001b[0m\u001b[0;34m(\u001b[0m\u001b[0;34m...\u001b[0m\u001b[0;34m)\u001b[0m\u001b[0;34m\u001b[0m\u001b[0;34m\u001b[0m\u001b[0m\n\u001b[1;32m      4\u001b[0m \u001b[0;31m# On pourra choisir des batchs de taille 20, pour 10 epochs et un learning-rate de 0.1\u001b[0m\u001b[0;34m\u001b[0m\u001b[0;34m\u001b[0m\u001b[0m\n\u001b[1;32m      5\u001b[0m \u001b[0;34m\u001b[0m\u001b[0m\n",
      "\u001b[0;31mTypeError\u001b[0m: __init__() missing 2 required positional arguments: 'output_size' and 'activation'"
     ]
    }
   ],
   "source": [
    "### A COMPLETER ###\n",
    "model = DenseLayer(...)\n",
    "model = SGD(...)\n",
    "# On pourra choisir des batchs de taille 20, pour 10 epochs et un learning-rate de 0.1\n",
    "\n",
    "# Ajouter la droite de régression linéaire obtenue sur la figure ci-dessus.\n",
    "\n",
    "[...]"
   ]
  },
  {
   "cell_type": "markdown",
   "metadata": {
    "id": "mA9-6PqLwff4"
   },
   "source": [
    "### Test sur un problème de classification binaire"
   ]
  },
  {
   "cell_type": "markdown",
   "metadata": {
    "id": "K9AHAgGBwjro"
   },
   "source": [
    "Afin de pouvoir tester notre perceptron mono-couche sur un problème de classification binaire (i.e. effectuer une régression logistique), il est d'abord nécessaire d'implémenter l'entropie croisée binaire."
   ]
  },
  {
   "cell_type": "code",
   "execution_count": 15,
   "metadata": {
    "id": "_xCXP-pQb2oL"
   },
   "outputs": [],
   "source": [
    "def binary_cross_entropy(y_true, y_pred):\n",
    "  loss = np.mean(- y_true * np.log(y_pred) - (1 - y_true) * np.log(1 - y_pred))\n",
    "  grad =  (- y_true / y_pred + (1 - y_true) / (1 - y_pred))/y_true.shape[0]\n",
    "\n",
    "  return loss, grad"
   ]
  },
  {
   "cell_type": "code",
   "execution_count": 25,
   "metadata": {
    "colab": {
     "base_uri": "https://localhost:8080/",
     "height": 265
    },
    "id": "4AxQRaegdntx",
    "outputId": "aacc9a92-b5d2-481d-bc04-689a56f91738"
   },
   "outputs": [
    {
     "data": {
      "text/plain": [
       "[Ellipsis]"
      ]
     },
     "execution_count": 25,
     "metadata": {},
     "output_type": "execute_result"
    }
   ],
   "source": [
    "x, y = datasets.make_blobs(n_samples=250, n_features=2, centers=2, center_box=(- 3, 3), random_state=1)\n",
    "\n",
    "x_train, x_test, y_train, y_test = train_test_split(x, y, test_size=1/10, random_state=1)\n",
    "x_train, x_val, y_train, y_val = train_test_split(x_train, y_train, test_size=1/9, random_state=1)\n",
    "\n",
    "### A COMPLETER ###\n",
    "# Proposer une figure permetant de distinguer \"Enssemble d'apprentissage\" et \"Ensemble de test\", \n",
    "# ainsi que les différentes classes.\n",
    "\n",
    "[...]"
   ]
  },
  {
   "cell_type": "code",
   "execution_count": 26,
   "metadata": {
    "colab": {
     "base_uri": "https://localhost:8080/",
     "height": 1000
    },
    "id": "TdyntT9zSrum",
    "outputId": "769705dd-cbae-4e6f-fee9-9b341ad7c445"
   },
   "outputs": [
    {
     "ename": "TypeError",
     "evalue": "__init__() missing 2 required positional arguments: 'output_size' and 'activation'",
     "output_type": "error",
     "traceback": [
      "\u001b[0;31m---------------------------------------------------------------------------\u001b[0m",
      "\u001b[0;31mTypeError\u001b[0m                                 Traceback (most recent call last)",
      "\u001b[0;32m/var/folders/pv/w96wvnnj27j18vplbhmz_yvwvgj4vl/T/ipykernel_18806/1833601772.py\u001b[0m in \u001b[0;36m<module>\u001b[0;34m\u001b[0m\n\u001b[1;32m      1\u001b[0m \u001b[0;31m### A COMPLETER ###\u001b[0m\u001b[0;34m\u001b[0m\u001b[0;34m\u001b[0m\u001b[0m\n\u001b[0;32m----> 2\u001b[0;31m \u001b[0mmodel\u001b[0m \u001b[0;34m=\u001b[0m \u001b[0mDenseLayer\u001b[0m\u001b[0;34m(\u001b[0m\u001b[0;34m...\u001b[0m\u001b[0;34m)\u001b[0m\u001b[0;34m\u001b[0m\u001b[0;34m\u001b[0m\u001b[0m\n\u001b[0m\u001b[1;32m      3\u001b[0m \u001b[0mmodel\u001b[0m \u001b[0;34m=\u001b[0m \u001b[0mSGD\u001b[0m\u001b[0;34m(\u001b[0m\u001b[0;34m...\u001b[0m\u001b[0;34m)\u001b[0m\u001b[0;34m\u001b[0m\u001b[0;34m\u001b[0m\u001b[0m\n\u001b[1;32m      4\u001b[0m \u001b[0;31m# On pourra choisir des batchs de taille 20, pour 50 epochs et un learning-rate de 0.3\u001b[0m\u001b[0;34m\u001b[0m\u001b[0;34m\u001b[0m\u001b[0m\n\u001b[1;32m      5\u001b[0m \u001b[0;34m\u001b[0m\u001b[0m\n",
      "\u001b[0;31mTypeError\u001b[0m: __init__() missing 2 required positional arguments: 'output_size' and 'activation'"
     ]
    }
   ],
   "source": [
    "### A COMPLETER ###\n",
    "model = DenseLayer(...)\n",
    "model = SGD(...)\n",
    "# On pourra choisir des batchs de taille 20, pour 50 epochs et un learning-rate de 0.3\n",
    "\n",
    "# Ajouter la droite permetant de séparer les deux classes, i.e. la droite de régression logistique,\n",
    "# obtenue sur la figure ci-dessus.\n",
    "\n",
    "[...]"
   ]
  },
  {
   "cell_type": "markdown",
   "metadata": {
    "id": "yiGyXLvum0uI"
   },
   "source": [
    "---\n",
    "\n",
    "## Perceptron multi-couche\n",
    "\n",
    "Nous allons à présent construire un perceptron multi-couches en se basant sur le perceptron mono-couche précédement développé. L'idée est d'accoler des perceptrons mono-couche en utilisant la sortie de la couche précédente comme entrée de la couche courante.\n",
    "\n",
    "En remarquant cela on peut créer une classe `MultiLayerPerceptron`. En particulier, la fonction `add_layer` permet d'ajouter au MLP le *layer* qu'elle prend en entrée. "
   ]
  },
  {
   "cell_type": "code",
   "execution_count": 19,
   "metadata": {
    "id": "RNhqq0KXm4Jd"
   },
   "outputs": [],
   "source": [
    "class MultiLayerPerceptron:\n",
    "    def __init__(self):\n",
    "      self.layers = []\n",
    "\n",
    "    def add_layer(self, layer):\n",
    "      self.layers.append(layer)\n",
    "\n",
    "    def forward(self, x_batch):\n",
    "\n",
    "      output_l = x_batch\n",
    "\n",
    "      for i in range(len(self.layers)):\n",
    "        # La sortie de la couche précédente est passée en entrée de la couche courante\n",
    "        input_l = output_l\n",
    "        \n",
    "        output_l = self.layers[i].forward(input_l)  \n",
    "      \n",
    "      # La sortie de la dernière couche est la sortie finale du réseau\n",
    "      y = output_l\n",
    "\n",
    "      return y\n",
    "\n",
    "    def backward(self, dy):\n",
    "      gradients = []\n",
    "      \n",
    "      for i in reversed(range(len(self.layers))):\n",
    "        # La sortie de la couche précédente est passée en entrée de la couche courante\n",
    "        layer_gradients = self.layers[i].backward(dy)  \n",
    "        gradients.append(layer_gradients) \n",
    "        dy = layer_gradients[\"dx\"]\n",
    "      \n",
    "      gradients.reverse()\n",
    "      return gradients\n",
    "\n",
    "    def update_parameters(self, gradients, learning_rate):\n",
    "      for i in range(len(self.layers)):\n",
    "        self.layers[i].update_parameters(gradients[i], learning_rate)"
   ]
  },
  {
   "cell_type": "code",
   "execution_count": 27,
   "metadata": {
    "colab": {
     "base_uri": "https://localhost:8080/",
     "height": 265
    },
    "id": "pijGm1ipwrAw",
    "outputId": "237f56b0-b4da-4006-8e3a-61bf5a19e45c"
   },
   "outputs": [
    {
     "data": {
      "text/plain": [
       "[Ellipsis]"
      ]
     },
     "execution_count": 27,
     "metadata": {},
     "output_type": "execute_result"
    }
   ],
   "source": [
    "x, y = datasets.make_gaussian_quantiles(n_samples=250, n_features=2, n_classes=2, random_state=1)\n",
    "\n",
    "x_train, x_test, y_train, y_test = train_test_split(x, y, test_size=1/10, random_state=1)\n",
    "x_train, x_val, y_train, y_val = train_test_split(x_train, y_train, test_size=1/9, random_state=1)\n",
    "\n",
    "### A COMPLETER ###\n",
    "# Proposer une figure permetant de distinguer \"Enssemble d'apprentissage\" et \"Ensemble de test\", \n",
    "# ainsi que les différentes classes.\n",
    "\n",
    "[...]"
   ]
  },
  {
   "cell_type": "markdown",
   "metadata": {},
   "source": [
    "En utilisant la fonction `add_layer` et la classe `DenseLayer`, nous pouvons à présent juxtaposer des perceptrons mono-couche, de sorte à construire un perceptron multi-couche.\n",
    "\n",
    "<img src=\"https://docs.google.com/uc?export=download&id=1F6greDVfj0-KcQKyP6rWMnO1rDH_Ck23\" height=200> \n",
    "\n",
    "Construisez le réseau ci-dessus, en choisissant une fonction d'activation ReLu pour chacune des couches cachées et sigmoïde pour la couche de sortie."
   ]
  },
  {
   "cell_type": "code",
   "execution_count": 21,
   "metadata": {
    "colab": {
     "base_uri": "https://localhost:8080/"
    },
    "id": "h3He5gXmxQ1j",
    "outputId": "fdf48193-c9e9-4282-da17-4081b1fcf183"
   },
   "outputs": [
    {
     "name": "stdout",
     "output_type": "stream",
     "text": [
      "Epoch    0 : Loss : 0.6976\n",
      "Epoch    1 : Loss : 0.6942\n",
      "Epoch    2 : Loss : 0.6922\n",
      "Epoch    3 : Loss : 0.6929\n",
      "Epoch    4 : Loss : 0.6883\n",
      "Epoch    5 : Loss : 0.6871\n",
      "Epoch    6 : Loss : 0.6832\n",
      "Epoch    7 : Loss : 0.6798\n",
      "Epoch    8 : Loss : 0.6765\n",
      "Epoch    9 : Loss : 0.6681\n",
      "Epoch   10 : Loss : 0.6598\n",
      "Epoch   11 : Loss : 0.6481\n",
      "Epoch   12 : Loss : 0.6335\n",
      "Epoch   13 : Loss : 0.6119\n",
      "Epoch   14 : Loss : 0.5844\n",
      "Epoch   15 : Loss : 0.5528\n",
      "Epoch   16 : Loss : 0.5043\n",
      "Epoch   17 : Loss : 0.4426\n",
      "Epoch   18 : Loss : 0.3818\n",
      "Epoch   19 : Loss : 0.3363\n",
      "Epoch   20 : Loss : 0.2783\n",
      "Epoch   21 : Loss : 0.2371\n",
      "Epoch   22 : Loss : 0.2175\n",
      "Epoch   23 : Loss : 0.1929\n",
      "Epoch   24 : Loss : 0.1731\n",
      "Epoch   25 : Loss : 0.1552\n",
      "Epoch   26 : Loss : 0.1381\n",
      "Epoch   27 : Loss : 0.1378\n",
      "Epoch   28 : Loss : 0.1309\n",
      "Epoch   29 : Loss : 0.1215\n",
      "Epoch   30 : Loss : 0.1166\n",
      "Epoch   31 : Loss : 0.1015\n",
      "Epoch   32 : Loss : 0.1130\n",
      "Epoch   33 : Loss : 0.0991\n",
      "Epoch   34 : Loss : 0.1249\n",
      "Epoch   35 : Loss : 0.1404\n",
      "Epoch   36 : Loss : 0.1524\n",
      "Epoch   37 : Loss : 0.0883\n",
      "Epoch   38 : Loss : 0.0886\n",
      "Epoch   39 : Loss : 0.1069\n",
      "Epoch   40 : Loss : 0.0975\n",
      "Epoch   41 : Loss : 0.1109\n",
      "Epoch   42 : Loss : 0.0820\n",
      "Epoch   43 : Loss : 0.0761\n",
      "Epoch   44 : Loss : 0.0825\n",
      "Epoch   45 : Loss : 0.0701\n",
      "Epoch   46 : Loss : 0.1017\n",
      "Epoch   47 : Loss : 0.1305\n",
      "Epoch   48 : Loss : 0.1569\n",
      "Epoch   49 : Loss : 0.1296\n",
      "Epoch   50 : Loss : 0.0977\n",
      "Epoch   51 : Loss : 0.1835\n",
      "Epoch   52 : Loss : 0.1063\n",
      "Epoch   53 : Loss : 0.0789\n",
      "Epoch   54 : Loss : 0.0721\n",
      "Epoch   55 : Loss : 0.0700\n",
      "Epoch   56 : Loss : 0.0702\n",
      "Epoch   57 : Loss : 0.0765\n",
      "Epoch   58 : Loss : 0.0614\n",
      "Epoch   59 : Loss : 0.0780\n",
      "Epoch   60 : Loss : 0.1357\n",
      "Epoch   61 : Loss : 0.1034\n",
      "Epoch   62 : Loss : 0.1617\n",
      "Epoch   63 : Loss : 0.1123\n",
      "Epoch   64 : Loss : 0.2237\n",
      "Epoch   65 : Loss : 0.1059\n",
      "Epoch   66 : Loss : 0.1180\n",
      "Epoch   67 : Loss : 0.0992\n",
      "Epoch   68 : Loss : 0.0532\n",
      "Epoch   69 : Loss : 0.0840\n",
      "Epoch   70 : Loss : 0.0591\n",
      "Epoch   71 : Loss : 0.0844\n",
      "Epoch   72 : Loss : 0.0591\n",
      "Epoch   73 : Loss : 0.0713\n",
      "Epoch   74 : Loss : 0.0956\n"
     ]
    }
   ],
   "source": [
    "model = MultiLayerPerceptron()\n",
    "model.add_layer(DenseLayer(...))\n",
    "[...]\n",
    "\n",
    "model = SGD(x_train, y_train, model, 'bce', 0.1, 75, 20)"
   ]
  },
  {
   "cell_type": "code",
   "execution_count": 22,
   "metadata": {
    "colab": {
     "base_uri": "https://localhost:8080/",
     "height": 286
    },
    "id": "vjhAoTaMjqPX",
    "outputId": "91090725-a317-4f59-e486-cf1475bad62b"
   },
   "outputs": [
    {
     "name": "stdout",
     "output_type": "stream",
     "text": [
      "(51, 61) (51, 61) (51, 61)\n"
     ]
    },
    {
     "name": "stderr",
     "output_type": "stream",
     "text": [
      "/var/folders/pv/w96wvnnj27j18vplbhmz_yvwvgj4vl/T/ipykernel_18806/2931231555.py:19: MatplotlibDeprecationWarning: shading='flat' when X and Y have the same dimensions as C is deprecated since 3.3.  Either specify the corners of the quadrilaterals with X and Y, or pass shading='auto', 'nearest' or 'gouraud', or set rcParams['pcolor.shading'].  This will become an error two minor releases later.\n",
      "  c = plt.pcolor(x, y, z_gen, cmap='RdBu', vmin=z_min, vmax=z_max)\n"
     ]
    },
    {
     "data": {
      "image/png": "[encoded data removed]",
      "text/plain": [
       "<Figure size 432x288 with 2 Axes>"
      ]
     },
     "metadata": {
      "needs_background": "light"
     },
     "output_type": "display_data"
    }
   ],
   "source": [
    "# make these smaller to increase the resolution\n",
    "dx, dy = 0.1, 0.1\n",
    "\n",
    "# generate 2 2d grids for the x & y bounds\n",
    "y, x = np.mgrid[slice(-2.5, 2.5 + dy, dy),\n",
    "                slice(-3, 3 + dx, dx)]\n",
    "\n",
    "\n",
    "x_gen = np.concatenate((np.expand_dims(np.reshape(y, (-1)),1),np.expand_dims(np.reshape(x, (-1)),1)), axis=1)\n",
    "z_gen = model.forward(np.transpose(x_gen)).reshape(x.shape)\n",
    "\n",
    "# x and y are bounds, so z should be the value *inside* those bounds.\n",
    "# Therefore, remove the last value from the z array.\n",
    "#z = z[:-1, :-1]\n",
    "z_min, z_max = 0, 1\n",
    "\n",
    "print(x.shape, y.shape, z_gen.shape)\n",
    "\n",
    "c = plt.pcolor(x, y, z_gen, cmap='RdBu', vmin=z_min, vmax=z_max)\n",
    "plt.colorbar(c)\n",
    "\n",
    "plt.plot(x_train[y_train==0,0], x_train[y_train==0,1], 'r.')\n",
    "plt.plot(x_train[y_train==1,0], x_train[y_train==1,1], 'b.')\n",
    "\n",
    "plt.plot(x_test[y_test==0,0], x_test[y_test==0,1], 'r+')\n",
    "plt.plot(x_test[y_test==1,0], x_test[y_test==1,1], 'b+')\n",
    "\n",
    "\n",
    "\n",
    "plt.show()\n"
   ]
  },
  {
   "cell_type": "markdown",
   "metadata": {},
   "source": [
    "Dans le code ci-dessus, que représente *z_gen* ? Commentez le résultat obtenus."
   ]
  }
 ],
 "metadata": {
  "colab": {
   "collapsed_sections": [],
   "name": "TP Réseaux de Neurones avec Numpy.ipynb",
   "provenance": [],
   "toc_visible": true
  },
  "coursera": {
   "course_slug": "nlp-sequence-models",
   "graded_item_id": "xxuVc",
   "launcher_item_id": "X20PE"
  },
  "kernelspec": {
   "display_name": "Python 3 (ipykernel)",
   "language": "python",
   "name": "python3"
  },
  "language_info": {
   "codemirror_mode": {
    "name": "ipython",
    "version": 3
   },
   "file_extension": ".py",
   "mimetype": "text/x-python",
   "name": "python",
   "nbconvert_exporter": "python",
   "pygments_lexer": "ipython3",
   "version": "3.9.7"
  },
  "toc": {
   "nav_menu": {},
   "number_sections": true,
   "sideBar": true,
   "skip_h1_title": false,
   "toc_cell": true,
   "toc_position": {},
   "toc_section_display": "block",
   "toc_window_display": false
  }
 },
 "nbformat": 4,
 "nbformat_minor": 4
}
